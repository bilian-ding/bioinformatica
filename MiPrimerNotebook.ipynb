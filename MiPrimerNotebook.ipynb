{
 "cells": [
  {
   "cell_type": "code",
   "execution_count": 73,
   "id": "81c60959-a314-404e-b394-26f4f835e9b7",
   "metadata": {},
   "outputs": [
    {
     "name": "stdout",
     "output_type": "stream",
     "text": [
      "hello\n"
     ]
    }
   ],
   "source": [
    "print(\"hello\")"
   ]
  },
  {
   "cell_type": "markdown",
   "id": "a18d47dc-bb95-43c8-a83c-dd7a1ec1f552",
   "metadata": {},
   "source": [
    "# Hola\n",
    "## Hola\n",
    "### Hola\n",
    "#### Hola\n",
    "##### Hola"
   ]
  },
  {
   "cell_type": "markdown",
   "id": "3b804ac9-939b-479a-9f6e-1a64e43ea411",
   "metadata": {},
   "source": [
    "*hola*\n",
    "_hola_"
   ]
  },
  {
   "cell_type": "markdown",
   "id": "36a1a9a7-bbc0-4232-bbef-f7af0be070eb",
   "metadata": {},
   "source": [
    "**hola**\n",
    "__hola__"
   ]
  },
  {
   "cell_type": "markdown",
   "id": "782cd71b-3af9-4529-82c4-7563c6743181",
   "metadata": {},
   "source": [
    "<img src=\"anaconda.png\">"
   ]
  }
 ],
 "metadata": {
  "kernelspec": {
   "display_name": "Python 3 (ipykernel)",
   "language": "python",
   "name": "python3"
  },
  "language_info": {
   "codemirror_mode": {
    "name": "ipython",
    "version": 3
   },
   "file_extension": ".py",
   "mimetype": "text/x-python",
   "name": "python",
   "nbconvert_exporter": "python",
   "pygments_lexer": "ipython3",
   "version": "3.12.4"
  }
 },
 "nbformat": 4,
 "nbformat_minor": 5
}
